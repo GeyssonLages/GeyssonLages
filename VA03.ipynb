{
  "nbformat": 4,
  "nbformat_minor": 0,
  "metadata": {
    "colab": {
      "provenance": [],
      "include_colab_link": true
    },
    "kernelspec": {
      "name": "python3",
      "display_name": "Python 3"
    },
    "language_info": {
      "name": "python"
    }
  },
  "cells": [
    {
      "cell_type": "markdown",
      "metadata": {
        "id": "view-in-github",
        "colab_type": "text"
      },
      "source": [
        "<a href=\"https://colab.research.google.com/github/GeyssonLages/GeyssonLages/blob/main/VA03.ipynb\" target=\"_parent\"><img src=\"https://colab.research.google.com/assets/colab-badge.svg\" alt=\"Open In Colab\"/></a>"
      ]
    },
    {
      "cell_type": "markdown",
      "source": [
        "# Caso fictício: reclamações no canal do Governo de Brasília"
      ],
      "metadata": {
        "id": "RtfJs98poIuB"
      }
    },
    {
      "cell_type": "code",
      "source": [
        "# Fazer download do modelo de linguagem de pequeno porte em português do spaCy\n",
        "# Validar a instalação do spaCy e verificar os modelos disponíveis\n",
        "!python -m spacy download pt_core_news_sm\n",
        "!python -m spacy validate"
      ],
      "metadata": {
        "colab": {
          "base_uri": "https://localhost:8080/"
        },
        "id": "bFPDhItNEmYn",
        "outputId": "64fad1a2-8b0e-4f47-e1e0-50820e97ec70"
      },
      "execution_count": 1,
      "outputs": [
        {
          "output_type": "stream",
          "name": "stdout",
          "text": [
            "Collecting pt-core-news-sm==3.8.0\n",
            "  Downloading https://github.com/explosion/spacy-models/releases/download/pt_core_news_sm-3.8.0/pt_core_news_sm-3.8.0-py3-none-any.whl (13.0 MB)\n",
            "\u001b[2K     \u001b[90m━━━━━━━━━━━━━━━━━━━━━━━━━━━━━━━━━━━━━━━━\u001b[0m \u001b[32m13.0/13.0 MB\u001b[0m \u001b[31m25.4 MB/s\u001b[0m eta \u001b[36m0:00:00\u001b[0m\n",
            "\u001b[?25hInstalling collected packages: pt-core-news-sm\n",
            "Successfully installed pt-core-news-sm-3.8.0\n",
            "\u001b[38;5;2m✔ Download and installation successful\u001b[0m\n",
            "You can now load the package via spacy.load('pt_core_news_sm')\n",
            "\u001b[38;5;3m⚠ Restart to reload dependencies\u001b[0m\n",
            "If you are in a Jupyter or Colab notebook, you may need to restart Python in\n",
            "order to load all the package's dependencies. You can do this by selecting the\n",
            "'Restart kernel' or 'Restart runtime' option.\n",
            "\u001b[2K\u001b[38;5;2m✔ Loaded compatibility table\u001b[0m\n",
            "\u001b[1m\n",
            "================= Installed pipeline packages (spaCy v3.8.7) =================\u001b[0m\n",
            "\u001b[38;5;4mℹ spaCy installation: /usr/local/lib/python3.11/dist-packages/spacy\u001b[0m\n",
            "\n",
            "NAME              SPACY            VERSION                            \n",
            "pt_core_news_sm   >=3.8.0,<3.9.0   \u001b[38;5;2m3.8.0\u001b[0m   \u001b[38;5;2m✔\u001b[0m\n",
            "en_core_web_sm    >=3.8.0,<3.9.0   \u001b[38;5;2m3.8.0\u001b[0m   \u001b[38;5;2m✔\u001b[0m\n",
            "\n"
          ]
        }
      ]
    },
    {
      "cell_type": "code",
      "source": [
        "# Importar dependências\n",
        "import spacy\n",
        "from spacy.lang.pt.examples import sentences\n",
        "from collections import Counter"
      ],
      "metadata": {
        "id": "K7LsbOD1EeS7"
      },
      "execution_count": 2,
      "outputs": []
    },
    {
      "cell_type": "code",
      "execution_count": 3,
      "metadata": {
        "colab": {
          "base_uri": "https://localhost:8080/"
        },
        "id": "PS9R5foSrAb_",
        "outputId": "47e3359f-ec38-4311-9156-4368b25bd78b"
      },
      "outputs": [
        {
          "output_type": "stream",
          "name": "stdout",
          "text": [
            "Reclamação: O poste de luz da minha estrada está quebrado e fica muito escuro à noite.\n",
            "Categoria: Infraestrutura\n",
            "\n",
            "Reclamação: Há muito entulho nas ruas e não está tendo coleta.\n",
            "Categoria: Lixo\n",
            "\n",
            "Reclamação: Me sinto inseguro na vizinhança pois vejo muita violência recentemente.\n",
            "Categoria: Segurança\n",
            "\n",
            "Reclamação: O serviço de água foi interrompido frequentemente este mês.\n",
            "Categoria: Serviços Públicos\n",
            "\n"
          ]
        }
      ],
      "source": [
        "# Carregar o modelo de linguagem do spaCy\n",
        "nlp = spacy.load('pt_core_news_sm')\n",
        "\n",
        "# Categorias de reclamações (exemplo ilustrativo)\n",
        "categories = {\n",
        "  \"Lixo\": [\"entulho\", \"coleta de lixo\", \"desperdício\", \"reciclagem\"],\n",
        "  \"Segurança\": [\"crime\", \"segurança\", \"polícia\", \"roubo\", \"violência\"],\n",
        "  \"Infraestrutura\": [\"estrada\", \"buraco\", \"calçada\", \"iluminação pública\", \"construção\"],\n",
        "  \"Serviços Públicos\": [\"água\", \"eletricidade\", \"atendimento\", \"ouvidoria\"]\n",
        "}\n",
        "\n",
        "# Função para categorizar uma reclamação\n",
        "def categorize_complaint(complaint):\n",
        "    doc = nlp(complaint)\n",
        "    tokens = [token.text.lower() for token in doc]\n",
        "    category_counts = Counter()\n",
        "\n",
        "    for category, keywords in categories.items():\n",
        "        for keyword in keywords:\n",
        "            if keyword in tokens:\n",
        "                category_counts[category] += 1\n",
        "\n",
        "    if category_counts:\n",
        "        return category_counts.most_common(1)[0][0]\n",
        "    else:\n",
        "        return \"Outros\"\n",
        "\n",
        "# Exemplos de reclamações\n",
        "complaints = [\n",
        "  \"O poste de luz da minha estrada está quebrado e fica muito escuro à noite.\",\n",
        "  \"Há muito entulho nas ruas e não está tendo coleta.\",\n",
        "  \"Me sinto inseguro na vizinhança pois vejo muita violência recentemente.\",\n",
        "  \"O serviço de água foi interrompido frequentemente este mês.\"\n",
        "]\n",
        "\n",
        "# Categorizar as reclamações\n",
        "categorized_complaints = [(complaint, categorize_complaint(complaint)) for complaint in complaints]\n",
        "\n",
        "# Exibir os resultados\n",
        "for complaint, category in categorized_complaints:\n",
        "    print(f\"Reclamação: {complaint}\\nCategoria: {category}\\n\")"
      ]
    }
  ]
}